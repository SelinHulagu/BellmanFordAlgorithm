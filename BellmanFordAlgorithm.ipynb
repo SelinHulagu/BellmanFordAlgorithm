{
 "cells": [
  {
   "cell_type": "code",
   "execution_count": 3,
   "metadata": {
    "scrolled": true
   },
   "outputs": [],
   "source": [
    "import numpy as np\n",
    "import networkx as nx\n",
    "import math\n",
    "import pandas as pd"
   ]
  },
  {
   "cell_type": "markdown",
   "metadata": {},
   "source": [
    "Bellman-Ford algorithm is an algorithm to find shortest paths between one node to all other nodes on a given graph. So that it is a similar algorithm, in terms of the objecttive, with Dijkstra algorithm which also handles finding the shortest paths between nodes. Unlike to Dijkstra, Bellman-Ford algorithm can work with negative edge weights. In addition, while Dijkstra is a greedy algorihm, Bellman-Ford is not a greedy algorithm where algorithm is iterated (number of nodes)-1 times. Bellman-Ford algorithm gurantees to find the shortest paths by updating the shortest distances (number of nodes)-1 times considering at most (number of nodes)-1 edges can found in one of the paths. But as a drawback, Bellman-Ford algorithm is not valid when negative cycles are found since in this case shortest path does't exist, and is computationally rich. Key steps of the algorithm can be summarized as:\n",
    "\n",
    "Initialization= Assign infinity distance to all nodes, except the source, which is assigned to be 0. \n",
    "\n",
    "Step 1= Relax each edge one by one, and repeat it |V|-1 times (|V|= number of nodes)\n",
    "\n",
    "Step 2= Detect the negative cycles and nodes in negative cycles "
   ]
  },
  {
   "cell_type": "code",
   "execution_count": 893,
   "metadata": {},
   "outputs": [],
   "source": [
    "def BellmanFordAlgo(A, starting_node_ID): \n",
    "    #this function requires Adjacency Matrix (A) and the ID of the starting node, where type of the A is numpy.ndarray. \n",
    "    #following data frame code is generated to tidy up the output\n",
    "    index=[i for i in range (1,len(A)+1)]\n",
    "    columns=['Node', 'Shortest distance from source node','Previous node']\n",
    "    Output=pd.DataFrame(columns=columns, index=index)\n",
    "    #Lets initiliaze the algorithm by assigning infitinity to all nodes except the starting one. \n",
    "    #Please note that since python starts indexing from 0,here we use starting_node_ID-1.  \n",
    "    D=[math.inf]*len(A)\n",
    "    D[starting_node_ID-1]=0\n",
    "    #step1 of the algoritm where each edge is relaxed one by one, repeating |V|-1 times.\n",
    "    for k in range (0, len(A)-1):\n",
    "        for i in range(0, len(A)):\n",
    "            for j in range(0, len(A)):\n",
    "                if A[i][j] !=0:\n",
    "                    if (D[i] != float(\"Inf\") and D[i] + A[i][j]< D[j]):\n",
    "                        D[j] = D[i]+ A[i][j]\n",
    "                        #this part is just for outputting\n",
    "                        Output.iloc[starting_node_ID-1][1]=D[starting_node_ID-1]\n",
    "                        Output.iloc[starting_node_ID-1][2]=starting_node_ID\n",
    "                        Output.iloc[j][0]=j+1 # +1 is just to balance the indexing\n",
    "                        Output.iloc[j][1]= D[j]\n",
    "                        Output.iloc[j][2]=i+1\n",
    "    #step2 of the algorithm where the negative weight cycles are detected. \n",
    "    for i in range(0, len(A)):\n",
    "        for j in range(0, len(A)):\n",
    "            if A[i][j] !=0:\n",
    "                if (D[i] !=  float(\"Inf\") and D[i] + A[i][j]< D[j]):\n",
    "                    print(\"Error: Graph contains negative weight cycle\")\n",
    "    Output['Node']=[i for i in range (1,len(A)+1)]\n",
    "    #if one wants to have an array output needs to activate code below:\n",
    "    #Output=Output.values  \n",
    "    return Output"
   ]
  },
  {
   "cell_type": "code",
   "execution_count": 909,
   "metadata": {
    "scrolled": false
   },
   "outputs": [
    {
     "name": "stdout",
     "output_type": "stream",
     "text": [
      "\n",
      " Shortest path from node (source node) 1 \n",
      "    Node Shortest distance from source node Previous node\n",
      "1     1                                  0             1\n",
      "2     2                                  1             1\n",
      "3     3                                  2             1\n",
      "4     4                                  5             2\n",
      "5     5                                  8             4\n",
      "6     6                                  5             3 \n",
      "\n",
      "\n",
      " Shortest path from node (source node) 2 \n",
      "    Node Shortest distance from source node Previous node\n",
      "1     1                                NaN           NaN\n",
      "2     2                                  0             2\n",
      "3     3                                NaN           NaN\n",
      "4     4                                  4             2\n",
      "5     5                                  7             4\n",
      "6     6                                  5             4 \n",
      "\n",
      "\n",
      " Shortest path from node (source node) 3 \n",
      "    Node Shortest distance from source node Previous node\n",
      "1     1                                NaN           NaN\n",
      "2     2                                  1             6\n",
      "3     3                                  0             3\n",
      "4     4                                  5             2\n",
      "5     5                                  8             4\n",
      "6     6                                  3             3 \n",
      "\n",
      "\n",
      " Shortest path from node (source node) 4 \n",
      "    Node Shortest distance from source node Previous node\n",
      "1     1                                NaN           NaN\n",
      "2     2                                 -1             6\n",
      "3     3                                NaN           NaN\n",
      "4     4                                  0             4\n",
      "5     5                                  3             4\n",
      "6     6                                  1             4 \n",
      "\n",
      "\n",
      " Shortest path from node (source node) 5 \n",
      "    Node Shortest distance from source node Previous node\n",
      "1     1                                NaN           NaN\n",
      "2     2                                 -3             6\n",
      "3     3                                NaN           NaN\n",
      "4     4                                  1             2\n",
      "5     5                                  0             5\n",
      "6     6                                 -1             5 \n",
      "\n",
      "\n",
      " Shortest path from node (source node) 6 \n",
      "    Node Shortest distance from source node Previous node\n",
      "1     1                                NaN           NaN\n",
      "2     2                                 -2             6\n",
      "3     3                                NaN           NaN\n",
      "4     4                                  2             2\n",
      "5     5                                  5             4\n",
      "6     6                                  0             6 \n",
      "\n"
     ]
    }
   ],
   "source": [
    "#Data is given in .mat file. Following code is converted .mat file to numpy.ndarray. \n",
    "data = loadmat('adjacencyMatrix.mat')#load your data here\n",
    "A = np.array(list(data.values()))[0]\n",
    "#Given A matrix, shortest path for each node to all other nodes are printed below: \n",
    "#NaN denotes that one cannot reach corresponding node starting from the source node\n",
    "for i in range(1, len(A)+1):\n",
    "    print('\\n','Shortest path from node (source node)', i, '\\n', BellmanFordAlgo(A,i), '\\n')"
   ]
  }
 ],
 "metadata": {
  "kernelspec": {
   "display_name": "Python 3",
   "language": "python",
   "name": "python3"
  },
  "language_info": {
   "codemirror_mode": {
    "name": "ipython",
    "version": 3
   },
   "file_extension": ".py",
   "mimetype": "text/x-python",
   "name": "python",
   "nbconvert_exporter": "python",
   "pygments_lexer": "ipython3",
   "version": "3.8.5"
  }
 },
 "nbformat": 4,
 "nbformat_minor": 4
}
